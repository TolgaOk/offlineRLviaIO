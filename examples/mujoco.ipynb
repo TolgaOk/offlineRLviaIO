{
 "cells": [
  {
   "cell_type": "markdown",
   "metadata": {},
   "source": [
    "- - -\n",
    "## Data Loading & Augmentation\n",
    "- - -"
   ]
  },
  {
   "cell_type": "code",
   "execution_count": null,
   "metadata": {},
   "outputs": [],
   "source": [
    "import os\n",
    "from io_agent.runner.iterative import augment_mujoco_dataset, registered_envs\n",
    "from io_agent.plant.mujoco import Walker2dEnv, HopperEnv, HalfCheetahEnv\n",
    "\n",
    "\n",
    "for name, env_class in registered_envs.items():\n",
    "    save_dir = f\"./{name}_data/dataset\"\n",
    "    file_name = \"rich_augmented\"\n",
    "\n",
    "    if not os.path.exists(os.path.join(save_dir, file_name)):\n",
    "        env = env_class()\n",
    "        augment_mujoco_dataset(\n",
    "            env=env,\n",
    "            save_dir=save_dir,\n",
    "            file_name=file_name,\n",
    "        )\n"
   ]
  },
  {
   "cell_type": "markdown",
   "metadata": {},
   "source": [
    "- - -\n",
    "## Iterative IO Controller Training\n",
    "- - -"
   ]
  },
  {
   "cell_type": "code",
   "execution_count": null,
   "metadata": {},
   "outputs": [],
   "source": [
    "import numpy as np\n",
    "import torch\n",
    "import multiprocessing\n",
    "\n",
    "from io_agent.runner.iterative import run_iterative_io, IterativeIOArgs\n",
    "\n",
    "\n",
    "n_cpu = multiprocessing.cpu_count()\n",
    "n_trials = 20\n",
    "general_seed = 42\n",
    "seed_rng = np.random.default_rng(general_seed)\n",
    "*trial_seeds, train_seed = seed_rng.integers(0, 2**30, n_trials + 1)\n",
    "device = \"cuda\" if torch.cuda.is_available() else \"cpu\"\n",
    "\n",
    "\n",
    "experiment_args = {\n",
    "    \"Walker-IO-1e4\": IterativeIOArgs(\n",
    "        lr_exp_decay=0.9975,\n",
    "        learning_rate=5e-2,\n",
    "        n_batch=64,\n",
    "        data_size=int(1e4),\n",
    "        eval_epochs=tuple(range(0, 2601, 100)),\n",
    "        env_name=\"walker\",\n",
    "        work_dir=\"./walker_data\"),\n",
    "    \"Hopper-IO-5e3\": IterativeIOArgs(\n",
    "        lr_exp_decay=0.995,\n",
    "        learning_rate=5e-2,\n",
    "        n_batch=64,\n",
    "        data_size=int(5e3),\n",
    "        env_name=\"hopper\",\n",
    "        eval_epochs=tuple(range(0, 1001, 100)),\n",
    "        work_dir=\"./hopper_data\"),\n",
    "    \"Cheetah-IO-1e4\": IterativeIOArgs(\n",
    "        lr_exp_decay=0.9925,\n",
    "        learning_rate=5e-2,\n",
    "        n_batch=64,\n",
    "        data_size=int(1e4),\n",
    "        eval_epochs=tuple(range(0, 2601, 100)),\n",
    "        env_name=\"cheetah\",\n",
    "        work_dir=\"./cheetah_data\"),\n",
    "}\n",
    "\n",
    "results = {}\n",
    "for key, args in experiment_args.items():\n",
    "    costs, epoch_losses, step_losses, iterative_io_agent = run_iterative_io(\n",
    "        args=args,\n",
    "        seed=train_seed,\n",
    "        trial_seeds=trial_seeds,\n",
    "        name=key,\n",
    "        device=device,\n",
    "        verbose=True)\n",
    "    results[key] = (costs, epoch_losses, step_losses)"
   ]
  },
  {
   "cell_type": "markdown",
   "metadata": {},
   "source": [
    "- - -\n",
    "## Visualizing the Training\n",
    "- - -"
   ]
  },
  {
   "cell_type": "code",
   "execution_count": null,
   "metadata": {},
   "outputs": [],
   "source": [
    "# Smoothing with last n steps\n",
    "from collections import deque\n",
    "from itertools import chain\n",
    "\n",
    "from io_agent.plant.mujoco import HopperEnv\n",
    "\n",
    "\n",
    "queue = deque(maxlen=5)\n",
    "env = HopperEnv()\n",
    "\n",
    "smooth_scores = {}\n",
    "for name, scores in results.items():\n",
    "    smooth_scores[name] = {}\n",
    "    for key, values in scores[0].items():\n",
    "        queue.append(values)\n",
    "        smooth_scores[name][key] = list(map(lambda x: env.env.get_normalized_score(x) * 100, chain(*queue)))\n"
   ]
  },
  {
   "cell_type": "code",
   "execution_count": null,
   "metadata": {},
   "outputs": [],
   "source": [
    "import numpy as np\n",
    "from collections import defaultdict\n",
    "\n",
    "from io_agent.plotter import tube_figure_plt\n",
    "\n",
    "\n",
    "fig, axes = tube_figure_plt(\n",
    "    cost_data=smooth_scores,\n",
    "    title=f\"\",\n",
    "    log_xaxis=False,\n",
    "    log_yaxis=False,\n",
    "    x_label=\"epoch\",\n",
    "    y_label=\"episodic score (%)\",\n",
    "    percentiles=(20, 80)\n",
    ")\n",
    "\n",
    "fig, axes = tube_figure_plt(\n",
    "    cost_data={key: {index + 1: value for index,\n",
    "                     value in enumerate(value[1])} for key, value in results.items()},\n",
    "    title=f\"\",\n",
    "    log_xaxis=True,\n",
    "    log_yaxis=True,\n",
    "    x_label=\"epoch\",\n",
    "    y_label=\"sub loss\",\n",
    "    percentiles=(20, 80)\n",
    ")\n",
    "\n",
    "fig, axes = tube_figure_plt(\n",
    "    cost_data={key: {index + 1: value for index,\n",
    "                     value in enumerate(value[2])} for key, value in results.items()},\n",
    "    title=f\"\",\n",
    "    log_xaxis=True,\n",
    "    log_yaxis=True,\n",
    "    x_label=\"gradient step\",\n",
    "    y_label=\"batch sub loss\",\n",
    "    percentiles=(20, 80)\n",
    ")"
   ]
  }
 ],
 "metadata": {
  "kernelspec": {
   "display_name": "base",
   "language": "python",
   "name": "python3"
  },
  "language_info": {
   "codemirror_mode": {
    "name": "ipython",
    "version": 3
   },
   "file_extension": ".py",
   "mimetype": "text/x-python",
   "name": "python",
   "nbconvert_exporter": "python",
   "pygments_lexer": "ipython3",
   "version": "3.10.12"
  },
  "orig_nbformat": 4
 },
 "nbformat": 4,
 "nbformat_minor": 2
}
