{
 "cells": [
  {
   "cell_type": "code",
   "execution_count": null,
   "metadata": {},
   "outputs": [],
   "source": [
    "from typing import List\n",
    "\n",
    "from io_agent.plant.fighter import FighterEnv, fighter_env_params\n",
    "from io_agent.trainer import ControlLoop, Transition\n",
    "from io_agent.control.mpc import MPC\n",
    "from io_agent.control.rmpc import RobustMPC\n",
    "\n",
    "\n",
    "def run_mpc(env_length: int = 60,\n",
    "            horizon: int = 20,\n",
    "            use_foresight: bool = True\n",
    "            ) -> List[Transition]:\n",
    "    plant = FighterEnv(max_length=env_length, env_params=fighter_env_params)\n",
    "    agent = MPC(env_params=fighter_env_params,\n",
    "                horizon=horizon)\n",
    "    trainer = ControlLoop(\n",
    "        state_disturbance=plant.state_disturbance,\n",
    "        output_disturbance=plant.output_disturbance,\n",
    "        plant=plant,\n",
    "        controller=agent\n",
    "    )\n",
    "\n",
    "    return trainer.simulate(\n",
    "        initial_state=None,\n",
    "        use_foresight=use_foresight,\n",
    "    )\n",
    "\n",
    "\n"
   ]
  },
  {
   "attachments": {},
   "cell_type": "markdown",
   "metadata": {},
   "source": [
    "## Trajectory Cost Distributions\n",
    "\n",
    "Run each experiment 10 times.\n"
   ]
  },
  {
   "cell_type": "code",
   "execution_count": null,
   "metadata": {},
   "outputs": [],
   "source": [
    "\n",
    "mpc_obl_trajectories = [run_mpc(use_foresight=False) for _ in range(10)]\n",
    "mpc_dst_trajectories = [run_mpc(use_foresight=True) for _ in range(10)]"
   ]
  },
  {
   "attachments": {},
   "cell_type": "markdown",
   "metadata": {},
   "source": [
    "Plot the cost distributions."
   ]
  },
  {
   "cell_type": "code",
   "execution_count": null,
   "metadata": {},
   "outputs": [],
   "source": [
    "from itertools import chain\n",
    "import plotly.graph_objects as go\n",
    "import plotly.figure_factory as ff\n",
    "\n",
    "\n",
    "mpc_obl_costs = [transition.cost for transition in chain(*mpc_obl_trajectories)]\n",
    "mpc_dst_costs = [transition.cost for transition in chain(*mpc_dst_trajectories)]\n",
    "\n",
    "fig = go.FigureWidget()\n",
    "fig.update_layout(\n",
    ")\n",
    "fig = ff.create_distplot([mpc_obl_costs, mpc_dst_costs],\n",
    "                         group_labels=[\"MPC (obl)\", \"MPC (dst)\"],\n",
    "                         colors=[\"#333F44\", \"#37AA9C\"],\n",
    "                         bin_size=2, show_rug=False)\n",
    "\n",
    "fig.update_layout(\n",
    "    template=\"plotly_white\",\n",
    "    width=600,\n",
    "    height=400,\n",
    "    title=dict(text=f\"MPC cost density with {len(mpc_dst_trajectories)} trials\", x=0.5),\n",
    "    yaxis=dict(title=dict(text=\"density\")),\n",
    "    xaxis=dict(title=dict(text=\"cost\")),\n",
    "    bargap=0.1\n",
    ")\n"
   ]
  }
 ],
 "metadata": {
  "kernelspec": {
   "display_name": "base",
   "language": "python",
   "name": "python3"
  },
  "language_info": {
   "codemirror_mode": {
    "name": "ipython",
    "version": 3
   },
   "file_extension": ".py",
   "mimetype": "text/x-python",
   "name": "python",
   "nbconvert_exporter": "python",
   "pygments_lexer": "ipython3",
   "version": "3.8.3"
  },
  "orig_nbformat": 4
 },
 "nbformat": 4,
 "nbformat_minor": 2
}
